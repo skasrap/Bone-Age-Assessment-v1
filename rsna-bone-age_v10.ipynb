{
 "cells": [
  {
   "cell_type": "markdown",
   "id": "838a0439",
   "metadata": {
    "papermill": {
     "duration": 0.007499,
     "end_time": "2024-05-18T02:55:15.179918",
     "exception": false,
     "start_time": "2024-05-18T02:55:15.172419",
     "status": "completed"
    },
    "tags": []
   },
   "source": [
    "# Implementing Integrated DNNs to Predict Bone Age from Hand Radiographs"
   ]
  },
  {
   "cell_type": "code",
   "execution_count": 1,
   "id": "e2952c8a",
   "metadata": {
    "_cell_guid": "b1076dfc-b9ad-4769-8c92-a6c4dae69d19",
    "_uuid": "8f2839f25d086af736a60e9eeb907d3b93b6e0e5",
    "execution": {
     "iopub.execute_input": "2024-05-18T02:55:15.194924Z",
     "iopub.status.busy": "2024-05-18T02:55:15.194646Z",
     "iopub.status.idle": "2024-05-18T02:55:19.983431Z",
     "shell.execute_reply": "2024-05-18T02:55:19.982687Z"
    },
    "papermill": {
     "duration": 4.798679,
     "end_time": "2024-05-18T02:55:19.985585",
     "exception": false,
     "start_time": "2024-05-18T02:55:15.186906",
     "status": "completed"
    },
    "tags": []
   },
   "outputs": [
    {
     "name": "stderr",
     "output_type": "stream",
     "text": [
      "\u001b[34m\u001b[1mwandb\u001b[0m: W&B API key is configured. Use \u001b[1m`wandb login --relogin`\u001b[0m to force relogin\n",
      "\u001b[34m\u001b[1mwandb\u001b[0m: \u001b[33mWARNING\u001b[0m If you're specifying your api key in code, ensure this code is not shared publicly.\n",
      "\u001b[34m\u001b[1mwandb\u001b[0m: \u001b[33mWARNING\u001b[0m Consider setting the WANDB_API_KEY environment variable, or running `wandb login` from the command line.\n",
      "\u001b[34m\u001b[1mwandb\u001b[0m: Appending key for api.wandb.ai to your netrc file: /root/.netrc\n"
     ]
    }
   ],
   "source": [
    "import numpy as np\n",
    "import pandas as pd\n",
    "import matplotlib.pyplot as plt\n",
    "import os\n",
    "from skimage.io import imread\n",
    "from sklearn.model_selection import train_test_split\n",
    "import wandb\n",
    "from kaggle_secrets import UserSecretsClient\n",
    "\n",
    "\n",
    "my_secrets = UserSecretsClient()\n",
    "my_secret = my_secrets.get_secret(\"wandb_api_key\") \n",
    "wandb.login(key=my_secret)\n",
    "%matplotlib inline"
   ]
  },
  {
   "cell_type": "markdown",
   "id": "37b348ea",
   "metadata": {
    "papermill": {
     "duration": 0.007105,
     "end_time": "2024-05-18T02:55:20.000157",
     "exception": false,
     "start_time": "2024-05-18T02:55:19.993052",
     "status": "completed"
    },
    "tags": []
   },
   "source": [
    "**We start by Discovering the Dataset at hand**"
   ]
  },
  {
   "cell_type": "code",
   "execution_count": 2,
   "id": "dc0de35d",
   "metadata": {
    "execution": {
     "iopub.execute_input": "2024-05-18T02:55:20.015552Z",
     "iopub.status.busy": "2024-05-18T02:55:20.015279Z",
     "iopub.status.idle": "2024-05-18T02:55:40.204647Z",
     "shell.execute_reply": "2024-05-18T02:55:40.203668Z"
    },
    "papermill": {
     "duration": 20.199696,
     "end_time": "2024-05-18T02:55:40.206930",
     "exception": false,
     "start_time": "2024-05-18T02:55:20.007234",
     "status": "completed"
    },
    "tags": []
   },
   "outputs": [
    {
     "name": "stdout",
     "output_type": "stream",
     "text": [
      "total training samples: 12611\n",
      "existing training samples: 12611\n"
     ]
    },
    {
     "data": {
      "text/html": [
       "<div>\n",
       "<style scoped>\n",
       "    .dataframe tbody tr th:only-of-type {\n",
       "        vertical-align: middle;\n",
       "    }\n",
       "\n",
       "    .dataframe tbody tr th {\n",
       "        vertical-align: top;\n",
       "    }\n",
       "\n",
       "    .dataframe thead th {\n",
       "        text-align: right;\n",
       "    }\n",
       "</style>\n",
       "<table border=\"1\" class=\"dataframe\">\n",
       "  <thead>\n",
       "    <tr style=\"text-align: right;\">\n",
       "      <th></th>\n",
       "      <th>id</th>\n",
       "      <th>boneage</th>\n",
       "      <th>male</th>\n",
       "      <th>path</th>\n",
       "      <th>exists</th>\n",
       "    </tr>\n",
       "  </thead>\n",
       "  <tbody>\n",
       "    <tr>\n",
       "      <th>9796</th>\n",
       "      <td>12474</td>\n",
       "      <td>168</td>\n",
       "      <td>True</td>\n",
       "      <td>/kaggle/input/rsna-bone-age/boneage-training-d...</td>\n",
       "      <td>True</td>\n",
       "    </tr>\n",
       "    <tr>\n",
       "      <th>5576</th>\n",
       "      <td>7759</td>\n",
       "      <td>106</td>\n",
       "      <td>False</td>\n",
       "      <td>/kaggle/input/rsna-bone-age/boneage-training-d...</td>\n",
       "      <td>True</td>\n",
       "    </tr>\n",
       "    <tr>\n",
       "      <th>11594</th>\n",
       "      <td>14477</td>\n",
       "      <td>156</td>\n",
       "      <td>True</td>\n",
       "      <td>/kaggle/input/rsna-bone-age/boneage-training-d...</td>\n",
       "      <td>True</td>\n",
       "    </tr>\n",
       "  </tbody>\n",
       "</table>\n",
       "</div>"
      ],
      "text/plain": [
       "          id  boneage   male  \\\n",
       "9796   12474      168   True   \n",
       "5576    7759      106  False   \n",
       "11594  14477      156   True   \n",
       "\n",
       "                                                    path  exists  \n",
       "9796   /kaggle/input/rsna-bone-age/boneage-training-d...    True  \n",
       "5576   /kaggle/input/rsna-bone-age/boneage-training-d...    True  \n",
       "11594  /kaggle/input/rsna-bone-age/boneage-training-d...    True  "
      ]
     },
     "execution_count": 2,
     "metadata": {},
     "output_type": "execute_result"
    }
   ],
   "source": [
    "train_path = \"/kaggle/input/rsna-bone-age/boneage-training-dataset\"\n",
    "train_df = pd.read_csv(os.path.join(\"/kaggle/input/rsna-bone-age/boneage-training-dataset.csv\"))\n",
    "\n",
    "\n",
    "train_df['path'] = train_df['id'].map(lambda x: os.path.join(train_path,\n",
    "                                                             \"boneage-training-dataset\", f\"{x}.png\"))\n",
    "\n",
    "train_df['exists'] = train_df['path'].map(os.path.exists) # Check to see if there are any missing values\n",
    "\n",
    "train_df.dropna(inplace = True)\n",
    "\n",
    "print(f\"total training samples: {len(train_df)}\")\n",
    "print(f\"existing training samples: {sum(train_df.exists)}\")\n",
    "\n",
    "train_df.sample(3)"
   ]
  },
  {
   "cell_type": "code",
   "execution_count": 3,
   "id": "390c3eb2",
   "metadata": {
    "execution": {
     "iopub.execute_input": "2024-05-18T02:55:40.223382Z",
     "iopub.status.busy": "2024-05-18T02:55:40.223115Z",
     "iopub.status.idle": "2024-05-18T02:55:40.695433Z",
     "shell.execute_reply": "2024-05-18T02:55:40.694602Z"
    },
    "papermill": {
     "duration": 0.482849,
     "end_time": "2024-05-18T02:55:40.697561",
     "exception": false,
     "start_time": "2024-05-18T02:55:40.214712",
     "status": "completed"
    },
    "tags": []
   },
   "outputs": [
    {
     "data": {
      "image/png": "[encoded data removed]",
      "text/plain": [
       "<Figure size 500x300 with 1 Axes>"
      ]
     },
     "metadata": {},
     "output_type": "display_data"
    },
    {
     "data": {
      "image/png": "[encoded data removed]",
      "text/plain": [
       "<Figure size 500x300 with 1 Axes>"
      ]
     },
     "metadata": {},
     "output_type": "display_data"
    }
   ],
   "source": [
    "train_df['boneage'].hist(figsize = (5, 3)) # check the distribution of bone age and male prevalence\n",
    "plt.show()\n",
    "train_df['male'].astype(int).hist(figsize = (5, 3))\n",
    "plt.show()"
   ]
  },
  {
   "cell_type": "code",
   "execution_count": 4,
   "id": "f452bd86",
   "metadata": {
    "execution": {
     "iopub.execute_input": "2024-05-18T02:55:40.715030Z",
     "iopub.status.busy": "2024-05-18T02:55:40.714735Z",
     "iopub.status.idle": "2024-05-18T02:55:41.361290Z",
     "shell.execute_reply": "2024-05-18T02:55:41.360402Z"
    },
    "papermill": {
     "duration": 0.658371,
     "end_time": "2024-05-18T02:55:41.364178",
     "exception": false,
     "start_time": "2024-05-18T02:55:40.705807",
     "status": "completed"
    },
    "tags": []
   },
   "outputs": [
    {
     "data": {
      "text/plain": [
       "Text(0.5, 1.0, 'Training sample 1377, bone age: 180, male: False')"
      ]
     },
     "execution_count": 4,
     "metadata": {},
     "output_type": "execute_result"
    },
    {
     "data": {
      "image/png": "[encoded data removed]",
      "text/plain": [
       "<Figure size 640x480 with 1 Axes>"
      ]
     },
     "metadata": {},
     "output_type": "display_data"
    }
   ],
   "source": [
    "plt.imshow(imread(train_df['path'][0]), cmap = \"gray\")\n",
    "plt.title(f\"Training sample {train_df.id[0]}, bone age: {train_df.boneage[0]}, male: {train_df.male[0]}\")"
   ]
  },
  {
   "cell_type": "markdown",
   "id": "171137d7",
   "metadata": {
    "papermill": {
     "duration": 0.00929,
     "end_time": "2024-05-18T02:55:41.383333",
     "exception": false,
     "start_time": "2024-05-18T02:55:41.374043",
     "status": "completed"
    },
    "tags": []
   },
   "source": [
    "Next, we should create a validation dataset, to choose the best model. It is good to make sure that both train and validation datasets have labels with similar distributions. Hence, we implement stratified splitting."
   ]
  },
  {
   "cell_type": "code",
   "execution_count": 5,
   "id": "f4d31fcf",
   "metadata": {
    "execution": {
     "iopub.execute_input": "2024-05-18T02:55:41.403741Z",
     "iopub.status.busy": "2024-05-18T02:55:41.403054Z",
     "iopub.status.idle": "2024-05-18T02:55:41.561196Z",
     "shell.execute_reply": "2024-05-18T02:55:41.560272Z"
    },
    "papermill": {
     "duration": 0.170504,
     "end_time": "2024-05-18T02:55:41.563276",
     "exception": false,
     "start_time": "2024-05-18T02:55:41.392772",
     "status": "completed"
    },
    "tags": []
   },
   "outputs": [
    {
     "name": "stdout",
     "output_type": "stream",
     "text": [
      "No. of training samples: 9458. \n",
      "No. of validation samples: 3153.\n"
     ]
    }
   ],
   "source": [
    "stratified_df = train_df.copy()\n",
    "stratified_df['boneage_category'] = pd.cut(stratified_df['boneage'], 10)\n",
    "stratified_train_df, stratified_valid_df = train_test_split(stratified_df, test_size = 0.25, random_state = 2024,\n",
    "                                                     stratify = stratified_df['boneage_category'])\n",
    "                                        # We use a train to valid ratio of 3:1\n",
    "print(f\"No. of training samples: {len(stratified_train_df)}. \\nNo. of validation samples: {len(stratified_valid_df)}.\")"
   ]
  },
  {
   "cell_type": "markdown",
   "id": "a92fc1a0",
   "metadata": {
    "papermill": {
     "duration": 0.009531,
     "end_time": "2024-05-18T02:55:41.583388",
     "exception": false,
     "start_time": "2024-05-18T02:55:41.573857",
     "status": "completed"
    },
    "tags": []
   },
   "source": [
    "**We can start building our model here**"
   ]
  },
  {
   "cell_type": "code",
   "execution_count": 6,
   "id": "576bb086",
   "metadata": {
    "execution": {
     "iopub.execute_input": "2024-05-18T02:55:41.603701Z",
     "iopub.status.busy": "2024-05-18T02:55:41.603430Z",
     "iopub.status.idle": "2024-05-18T02:55:47.901619Z",
     "shell.execute_reply": "2024-05-18T02:55:47.900675Z"
    },
    "papermill": {
     "duration": 6.310889,
     "end_time": "2024-05-18T02:55:47.903746",
     "exception": false,
     "start_time": "2024-05-18T02:55:41.592857",
     "status": "completed"
    },
    "tags": []
   },
   "outputs": [
    {
     "data": {
      "text/plain": [
       "device(type='cuda')"
      ]
     },
     "execution_count": 6,
     "metadata": {},
     "output_type": "execute_result"
    }
   ],
   "source": [
    "from torch.utils.data import Dataset, DataLoader\n",
    "from torchvision import datasets, models, transforms\n",
    "import torch\n",
    "import torch.nn as nn\n",
    "import torch.optim as optim\n",
    "\n",
    "\n",
    "DEVICE = torch.device('cuda' if torch.cuda.is_available() else 'cpu')\n",
    "DEVICE"
   ]
  },
  {
   "cell_type": "markdown",
   "id": "6e65a52c",
   "metadata": {
    "papermill": {
     "duration": 0.009646,
     "end_time": "2024-05-18T02:55:47.923648",
     "exception": false,
     "start_time": "2024-05-18T02:55:47.914002",
     "status": "completed"
    },
    "tags": []
   },
   "source": [
    "Having a dataset class helps us feed the data to dataloaders. Since we want to use the same dataset class on train, validation, and test data, we use a few \"if\" statements to make adjustments."
   ]
  },
  {
   "cell_type": "code",
   "execution_count": 7,
   "id": "b8415a57",
   "metadata": {
    "execution": {
     "iopub.execute_input": "2024-05-18T02:55:47.944737Z",
     "iopub.status.busy": "2024-05-18T02:55:47.944272Z",
     "iopub.status.idle": "2024-05-18T02:55:47.951849Z",
     "shell.execute_reply": "2024-05-18T02:55:47.951005Z"
    },
    "papermill": {
     "duration": 0.020269,
     "end_time": "2024-05-18T02:55:47.953817",
     "exception": false,
     "start_time": "2024-05-18T02:55:47.933548",
     "status": "completed"
    },
    "tags": []
   },
   "outputs": [],
   "source": [
    "class dataset(Dataset):\n",
    "    def __init__(self, data, transform = None):\n",
    "        self.data = data\n",
    "        self.transform = transform\n",
    "    def __getitem__(self, idx):\n",
    "        row = self.data.iloc[idx]\n",
    "        img = imread(row['path'])\n",
    "        male = row['male'].astype(float)\n",
    "        male = torch.tensor(male, dtype=torch.float32)\n",
    "        if self.transform:\n",
    "            img = self.transform(img)\n",
    "        if 'boneage' in row.keys(): # for when we are creating test dataset\n",
    "            label = row['boneage'].astype(float)\n",
    "            label = torch.tensor(label, dtype=torch.float32)\n",
    "            return img, male, label\n",
    "        else:\n",
    "            return img, male\n",
    "    def __len__(self):\n",
    "        return len(self.data)"
   ]
  },
  {
   "cell_type": "markdown",
   "id": "f47a828f",
   "metadata": {
    "papermill": {
     "duration": 0.009503,
     "end_time": "2024-05-18T02:55:47.972888",
     "exception": false,
     "start_time": "2024-05-18T02:55:47.963385",
     "status": "completed"
    },
    "tags": []
   },
   "source": [
    "**Here, we define the main model architecture. We use ResNet-50 to extract the features of radiographic images.\n",
    "We also create a Dense Neural Net to extract and add the features corresponding to gender.\n",
    "In the end, both of the aforementioned features are passed through 2 Linear Layers, to predict the bone age.**"
   ]
  },
  {
   "cell_type": "code",
   "execution_count": 8,
   "id": "c9ff6b0f",
   "metadata": {
    "execution": {
     "iopub.execute_input": "2024-05-18T02:55:47.993652Z",
     "iopub.status.busy": "2024-05-18T02:55:47.993363Z",
     "iopub.status.idle": "2024-05-18T02:55:48.004020Z",
     "shell.execute_reply": "2024-05-18T02:55:48.003169Z"
    },
    "papermill": {
     "duration": 0.023158,
     "end_time": "2024-05-18T02:55:48.005842",
     "exception": false,
     "start_time": "2024-05-18T02:55:47.982684",
     "status": "completed"
    },
    "tags": []
   },
   "outputs": [],
   "source": [
    "class Gender_Model(nn.Module):\n",
    "    def __init__(self, dense_layer1_size, dense_layer2_size, p_dropout, regressor_layer_size):\n",
    "        super(Gender_Model, self).__init__()\n",
    "        self.resnet = models.resnet50(weights = 'IMAGENET1K_V2')\n",
    "        num_features = self.resnet.fc.in_features\n",
    "        self.resnet.fc = nn.Identity()\n",
    "        self.new_conv1 = nn.Conv2d(1, 64, kernel_size=(7, 7), stride=(2, 2), padding=(3, 3), bias=False)\n",
    "        self.new_conv1.weight = nn.Parameter(self.resnet.conv1.weight.mean(dim=1, keepdim=True))\n",
    "        \n",
    "        self.resnet.conv1 = self.new_conv1\n",
    "        self.dense_layer1_size = dense_layer1_size\n",
    "        self.dense_layer2_size = dense_layer2_size\n",
    "        self.p_dropout = p_dropout\n",
    "        self.regressor_layer_size = regressor_layer_size\n",
    "        \n",
    "        \n",
    "        self.gender_dense = nn.Sequential(\n",
    "            nn.Linear(1, self.dense_layer1_size),\n",
    "            nn.ReLU(inplace = True),\n",
    "            nn.Dropout(self.p_dropout),\n",
    "            nn.Linear(self.dense_layer1_size, self.dense_layer2_size),\n",
    "            nn.ReLU(inplace = True),\n",
    "            nn.Dropout(self.p_dropout)\n",
    "        )\n",
    "\n",
    "        self.fc1 = nn.Linear(self.dense_layer2_size + num_features, self.regressor_layer_size)\n",
    "        self.fc2 = nn.Linear(self.regressor_layer_size, 1)\n",
    "            \n",
    "    def forward(self, img, gender):\n",
    "        img_features = self.resnet(img)\n",
    "        gender_features = self.gender_dense(gender.unsqueeze(1))\n",
    "        combined_features = torch.cat((img_features, gender_features), dim = 1)\n",
    "        \n",
    "        x = self.fc1(combined_features)\n",
    "        x = nn.ReLU()(x)\n",
    "        x = self.fc2(x)\n",
    "        \n",
    "        return x"
   ]
  },
  {
   "cell_type": "code",
   "execution_count": 9,
   "id": "90851c89",
   "metadata": {
    "execution": {
     "iopub.execute_input": "2024-05-18T02:55:48.026373Z",
     "iopub.status.busy": "2024-05-18T02:55:48.025853Z",
     "iopub.status.idle": "2024-05-18T02:55:48.032811Z",
     "shell.execute_reply": "2024-05-18T02:55:48.032019Z"
    },
    "papermill": {
     "duration": 0.019336,
     "end_time": "2024-05-18T02:55:48.034730",
     "exception": false,
     "start_time": "2024-05-18T02:55:48.015394",
     "status": "completed"
    },
    "tags": []
   },
   "outputs": [],
   "source": [
    "def train_one_epoch(train_loader, model, loss, metric, optimizer, scheduler):\n",
    "    epoch_loss = 0.0\n",
    "    epoch_metric_val = 0.0\n",
    "    \n",
    "    for imgs, genders, labels in train_loader:\n",
    "        imgs, genders, labels = imgs.to(DEVICE), genders.to(DEVICE), labels.view(-1, 1).to(DEVICE)\n",
    "        \n",
    "        predictions = model(imgs, genders)\n",
    "        running_loss = loss(predictions, labels)\n",
    "        running_metric_val = metric(predictions, labels)\n",
    "        running_loss.backward()\n",
    "        optimizer.step()\n",
    "        optimizer.zero_grad()\n",
    "        \n",
    "        wandb.log({'step_loss': running_loss,\n",
    "                   \"learning_rate\": scheduler.get_last_lr()[0]})\n",
    "        \n",
    "        scheduler.step()\n",
    "        \n",
    "        epoch_loss += running_loss.item()\n",
    "        epoch_metric_val += running_metric_val.item()\n",
    "        \n",
    "    return epoch_loss/len(train_loader), epoch_metric_val/len(train_loader)"
   ]
  },
  {
   "cell_type": "code",
   "execution_count": 10,
   "id": "e328721b",
   "metadata": {
    "execution": {
     "iopub.execute_input": "2024-05-18T02:55:48.055072Z",
     "iopub.status.busy": "2024-05-18T02:55:48.054788Z",
     "iopub.status.idle": "2024-05-18T02:55:48.060850Z",
     "shell.execute_reply": "2024-05-18T02:55:48.060036Z"
    },
    "papermill": {
     "duration": 0.018236,
     "end_time": "2024-05-18T02:55:48.062680",
     "exception": false,
     "start_time": "2024-05-18T02:55:48.044444",
     "status": "completed"
    },
    "tags": []
   },
   "outputs": [],
   "source": [
    "def validate_one_epoch(val_loader, model, loss, metric):\n",
    "    epoch_loss = 0.0\n",
    "    epoch_metric_val = 0.0\n",
    "\n",
    "    with torch.no_grad():\n",
    "        for imgs, genders, labels in val_loader:\n",
    "            imgs, genders, labels = imgs.to(DEVICE), genders.to(DEVICE), labels.view(-1, 1).to(DEVICE)\n",
    "            \n",
    "            predictions = model(imgs, genders)\n",
    "            running_loss = loss(predictions, labels)\n",
    "            running_metric_val = metric(predictions, labels)\n",
    "            \n",
    "            epoch_loss += running_loss.item()\n",
    "            epoch_metric_val += running_metric_val.item()\n",
    "        \n",
    "        return epoch_loss/len(val_loader), epoch_metric_val/len(val_loader)"
   ]
  },
  {
   "cell_type": "markdown",
   "id": "84c61a6e",
   "metadata": {
    "papermill": {
     "duration": 0.009422,
     "end_time": "2024-05-18T02:55:48.081706",
     "exception": false,
     "start_time": "2024-05-18T02:55:48.072284",
     "status": "completed"
    },
    "tags": []
   },
   "source": [
    "Defining the \"main\" function, helps us use wandb sweeps to choose the best hyperparameters. Since image size may also be tuned in later versions, we've put transformers here (though this implementation is not necessary)."
   ]
  },
  {
   "cell_type": "code",
   "execution_count": 11,
   "id": "6c91ceae",
   "metadata": {
    "execution": {
     "iopub.execute_input": "2024-05-18T02:55:48.102182Z",
     "iopub.status.busy": "2024-05-18T02:55:48.101902Z",
     "iopub.status.idle": "2024-05-18T02:55:48.113572Z",
     "shell.execute_reply": "2024-05-18T02:55:48.112797Z"
    },
    "papermill": {
     "duration": 0.024149,
     "end_time": "2024-05-18T02:55:48.115548",
     "exception": false,
     "start_time": "2024-05-18T02:55:48.091399",
     "status": "completed"
    },
    "tags": []
   },
   "outputs": [],
   "source": [
    "def main():\n",
    "    run = wandb.init()\n",
    "    \n",
    "    train_transform = transforms.Compose([\n",
    "    transforms.ToTensor(),\n",
    "    transforms.Resize(wandb.config.image_size, antialias = None),\n",
    "    transforms.RandomHorizontalFlip(p=0.5),\n",
    "    transforms.RandomRotation(30),\n",
    "    transforms.Normalize(mean=[0.5], std=[0.5]),\n",
    "    ])\n",
    "\n",
    "    val_transform = transforms.Compose([\n",
    "    transforms.ToTensor(),\n",
    "    transforms.Resize(wandb.config.image_size, antialias = None),\n",
    "    transforms.Normalize(mean=[0.5], std=[0.5]),\n",
    "    ])\n",
    "\n",
    "    train_set = dataset(stratified_train_df, transform = train_transform)\n",
    "    val_set = dataset(stratified_valid_df, transform = val_transform)\n",
    "    \n",
    "    \n",
    "    train_loader = DataLoader(train_set, wandb.config.batch_size, shuffle = True,\n",
    "                              num_workers = 4, pin_memory = True)\n",
    "    val_loader = DataLoader(val_set, wandb.config.batch_size,\n",
    "                           num_workers = 4, pin_memory = True)\n",
    "    \n",
    "    model = Gender_Model(wandb.config.dense_layer1_size, wandb.config.dense_layer2_size,\n",
    "                         wandb.config.p_dropout, wandb.config.regressor_layer_size)\n",
    "    model.to(DEVICE)\n",
    "    \n",
    "    loss_f = nn.MSELoss()\n",
    "    metric = nn.L1Loss()\n",
    "    \n",
    "    optimizer = optim.Adam(model.parameters(), lr = wandb.config.learning_rate)\n",
    "    scheduler = optim.lr_scheduler.StepLR(optimizer, step_size = wandb.config.step_size, gamma = wandb.config.gamma)\n",
    "    \n",
    "    for epoch in range(wandb.config.num_epochs):\n",
    "        best_loss = float(\"inf\")\n",
    "        best_model_path = \"/kaggle/working/best_model.pth\"\n",
    "        \n",
    "        \n",
    "        train_loss, train_L1 = train_one_epoch(train_loader, model, loss_f, metric, optimizer, scheduler)\n",
    "        val_loss, val_L1 = validate_one_epoch(val_loader, model, loss_f, metric)\n",
    "        \n",
    "        wandb.log({\n",
    "        'epoch': epoch, \n",
    "        'train_loss': train_loss,\n",
    "        'train_MAE': train_L1,\n",
    "        'val_loss': val_loss,\n",
    "        'val_MAE': val_L1\n",
    "        })\n",
    "        \n",
    "        if val_loss < best_loss:\n",
    "            best_loss = val_loss\n",
    "            torch.save(model.state_dict(), best_model_path)\n",
    "        \n",
    "        \n",
    "        print(f\"Epoch [{epoch + 1}/{wandb.config.num_epochs}] - Training Loss: {train_loss:.4f} - Training MAE: {train_L1:.4f}\")\n",
    "        print(f\"Epoch [{epoch + 1}/{wandb.config.num_epochs}] - Validation Loss: {val_loss:.4f} - Validation MAE: {val_L1:.4f}\")\n"
   ]
  },
  {
   "cell_type": "markdown",
   "id": "570ba291",
   "metadata": {
    "papermill": {
     "duration": 0.009489,
     "end_time": "2024-05-18T02:55:48.134653",
     "exception": false,
     "start_time": "2024-05-18T02:55:48.125164",
     "status": "completed"
    },
    "tags": []
   },
   "source": [
    "Here we define the sweep configuration to tune the hyperparameters automatically and save them to the cloud."
   ]
  },
  {
   "cell_type": "code",
   "execution_count": 12,
   "id": "6e58d443",
   "metadata": {
    "execution": {
     "iopub.execute_input": "2024-05-18T02:55:48.155188Z",
     "iopub.status.busy": "2024-05-18T02:55:48.154903Z",
     "iopub.status.idle": "2024-05-18T02:55:48.161325Z",
     "shell.execute_reply": "2024-05-18T02:55:48.160474Z"
    },
    "papermill": {
     "duration": 0.01864,
     "end_time": "2024-05-18T02:55:48.163199",
     "exception": false,
     "start_time": "2024-05-18T02:55:48.144559",
     "status": "completed"
    },
    "tags": []
   },
   "outputs": [],
   "source": [
    "sweep_configuration = {\n",
    "    'method': 'bayes',\n",
    "    'name': 'sweep-bayes_5',\n",
    "    'metric': {'goal': 'minimize', 'name': 'val_loss'},\n",
    "    'parameters': \n",
    "    {\n",
    "        'batch_size': {'values': [64, 128]},\n",
    "        'num_epochs': {'values': [10, 20]},\n",
    "        'learning_rate': {\"values\": [0.01, 0.001]},\n",
    "        'step_size': {\"values\": [10, 20, 30]},\n",
    "        'gamma': {\"values\": [0.1, 0.5, 0.9]},\n",
    "        'dense_layer1_size': {'values': [128, 256]},\n",
    "        'dense_layer2_size': {'values': [128, 256]},\n",
    "        'p_dropout': {'max': 0.5, 'min': 0.1},\n",
    "        'regressor_layer_size': {'values': [128, 256]},\n",
    "        'image_size': {'value': (224, 224)}\n",
    "     }\n",
    "}"
   ]
  },
  {
   "cell_type": "code",
   "execution_count": 13,
   "id": "742aac65",
   "metadata": {
    "execution": {
     "iopub.execute_input": "2024-05-18T02:55:48.183363Z",
     "iopub.status.busy": "2024-05-18T02:55:48.183101Z",
     "iopub.status.idle": "2024-05-18T07:12:08.290467Z",
     "shell.execute_reply": "2024-05-18T07:12:08.289434Z"
    },
    "papermill": {
     "duration": 15380.120456,
     "end_time": "2024-05-18T07:12:08.293202",
     "exception": false,
     "start_time": "2024-05-18T02:55:48.172746",
     "status": "completed"
    },
    "tags": []
   },
   "outputs": [
    {
     "name": "stdout",
     "output_type": "stream",
     "text": [
      "Create sweep with ID: 9mhyu2a4\n",
      "Sweep URL: https://wandb.ai/kpirahesh/Bone_Age_Assessment_v1/sweeps/9mhyu2a4\n"
     ]
    },
    {
     "name": "stderr",
     "output_type": "stream",
     "text": [
      "\u001b[34m\u001b[1mwandb\u001b[0m: Agent Starting Run: 5zj3hfxh with config:\n",
      "\u001b[34m\u001b[1mwandb\u001b[0m: \tbatch_size: 64\n",
      "\u001b[34m\u001b[1mwandb\u001b[0m: \tdense_layer1_size: 256\n",
      "\u001b[34m\u001b[1mwandb\u001b[0m: \tdense_layer2_size: 128\n",
      "\u001b[34m\u001b[1mwandb\u001b[0m: \tgamma: 0.9\n",
      "\u001b[34m\u001b[1mwandb\u001b[0m: \timage_size: [224, 224]\n",
      "\u001b[34m\u001b[1mwandb\u001b[0m: \tlearning_rate: 0.01\n",
      "\u001b[34m\u001b[1mwandb\u001b[0m: \tnum_epochs: 20\n",
      "\u001b[34m\u001b[1mwandb\u001b[0m: \tp_dropout: 0.23281211984432615\n",
      "\u001b[34m\u001b[1mwandb\u001b[0m: \tregressor_layer_size: 256\n",
      "\u001b[34m\u001b[1mwandb\u001b[0m: \tstep_size: 10\n",
      "\u001b[34m\u001b[1mwandb\u001b[0m: Currently logged in as: \u001b[33mkasra-pirahesh\u001b[0m (\u001b[33mkpirahesh\u001b[0m). Use \u001b[1m`wandb login --relogin`\u001b[0m to force relogin\n",
      "\u001b[34m\u001b[1mwandb\u001b[0m: wandb version 0.17.0 is available!  To upgrade, please run:\n",
      "\u001b[34m\u001b[1mwandb\u001b[0m:  $ pip install wandb --upgrade\n",
      "\u001b[34m\u001b[1mwandb\u001b[0m: Tracking run with wandb version 0.16.6\n",
      "\u001b[34m\u001b[1mwandb\u001b[0m: Run data is saved locally in \u001b[35m\u001b[1m/kaggle/working/wandb/run-20240518_025550-5zj3hfxh\u001b[0m\n",
      "\u001b[34m\u001b[1mwandb\u001b[0m: Run \u001b[1m`wandb offline`\u001b[0m to turn off syncing.\n",
      "\u001b[34m\u001b[1mwandb\u001b[0m: Syncing run \u001b[33mrobust-sweep-1\u001b[0m\n",
      "\u001b[34m\u001b[1mwandb\u001b[0m: ⭐️ View project at \u001b[34m\u001b[4mhttps://wandb.ai/kpirahesh/Bone_Age_Assessment_v1\u001b[0m\n",
      "\u001b[34m\u001b[1mwandb\u001b[0m: 🧹 View sweep at \u001b[34m\u001b[4mhttps://wandb.ai/kpirahesh/Bone_Age_Assessment_v1/sweeps/9mhyu2a4\u001b[0m\n",
      "\u001b[34m\u001b[1mwandb\u001b[0m: 🚀 View run at \u001b[34m\u001b[4mhttps://wandb.ai/kpirahesh/Bone_Age_Assessment_v1/runs/5zj3hfxh\u001b[0m\n",
      "Downloading: \"https://download.pytorch.org/models/resnet50-11ad3fa6.pth\" to /root/.cache/torch/hub/checkpoints/resnet50-11ad3fa6.pth\n",
      "100%|██████████| 97.8M/97.8M [00:00<00:00, 172MB/s]\n"
     ]
    },
    {
     "name": "stdout",
     "output_type": "stream",
     "text": [
      "Epoch [1/20] - Training Loss: 1848.1417 - Training MAE: 32.8366\n",
      "Epoch [1/20] - Validation Loss: 1046.1320 - Validation MAE: 25.1055\n",
      "Epoch [2/20] - Training Loss: 765.0072 - Training MAE: 20.9307\n",
      "Epoch [2/20] - Validation Loss: 546.9052 - Validation MAE: 17.2120\n",
      "Epoch [3/20] - Training Loss: 539.1189 - Training MAE: 17.3319\n",
      "Epoch [3/20] - Validation Loss: 482.1056 - Validation MAE: 15.9862\n",
      "Epoch [4/20] - Training Loss: 475.1106 - Training MAE: 16.2121\n",
      "Epoch [4/20] - Validation Loss: 456.4877 - Validation MAE: 15.6577\n",
      "Epoch [5/20] - Training Loss: 453.9358 - Training MAE: 15.8946\n",
      "Epoch [5/20] - Validation Loss: 452.7889 - Validation MAE: 15.5626\n",
      "Epoch [6/20] - Training Loss: 454.6432 - Training MAE: 15.9733\n",
      "Epoch [6/20] - Validation Loss: 454.1168 - Validation MAE: 15.6665\n",
      "Epoch [7/20] - Training Loss: 456.7658 - Training MAE: 16.1098\n",
      "Epoch [7/20] - Validation Loss: 447.0945 - Validation MAE: 15.5416\n",
      "Epoch [8/20] - Training Loss: 453.3788 - Training MAE: 15.9795\n",
      "Epoch [8/20] - Validation Loss: 453.0618 - Validation MAE: 15.6232\n",
      "Epoch [9/20] - Training Loss: 449.1471 - Training MAE: 15.9647\n",
      "Epoch [9/20] - Validation Loss: 450.0227 - Validation MAE: 15.5483\n",
      "Epoch [10/20] - Training Loss: 450.5351 - Training MAE: 16.0493\n",
      "Epoch [10/20] - Validation Loss: 460.6268 - Validation MAE: 15.8002\n",
      "Epoch [11/20] - Training Loss: 458.7703 - Training MAE: 16.1953\n",
      "Epoch [11/20] - Validation Loss: 455.7482 - Validation MAE: 15.7314\n",
      "Epoch [12/20] - Training Loss: 454.5761 - Training MAE: 16.0571\n",
      "Epoch [12/20] - Validation Loss: 452.5453 - Validation MAE: 15.6421\n",
      "Epoch [13/20] - Training Loss: 455.5861 - Training MAE: 15.9726\n",
      "Epoch [13/20] - Validation Loss: 449.0674 - Validation MAE: 15.6139\n",
      "Epoch [14/20] - Training Loss: 456.4688 - Training MAE: 15.9852\n",
      "Epoch [14/20] - Validation Loss: 449.3683 - Validation MAE: 15.4204\n",
      "Epoch [15/20] - Training Loss: 445.6972 - Training MAE: 15.7984\n",
      "Epoch [15/20] - Validation Loss: 451.2512 - Validation MAE: 15.5925\n",
      "Epoch [16/20] - Training Loss: 447.0866 - Training MAE: 15.8479\n",
      "Epoch [16/20] - Validation Loss: 456.4397 - Validation MAE: 15.6689\n",
      "Epoch [17/20] - Training Loss: 450.0515 - Training MAE: 15.9569\n",
      "Epoch [17/20] - Validation Loss: 450.5547 - Validation MAE: 15.5880\n",
      "Epoch [18/20] - Training Loss: 447.3269 - Training MAE: 15.9144\n",
      "Epoch [18/20] - Validation Loss: 446.1448 - Validation MAE: 15.4320\n",
      "Epoch [19/20] - Training Loss: 440.9064 - Training MAE: 15.8013\n",
      "Epoch [19/20] - Validation Loss: 456.0400 - Validation MAE: 15.7316\n",
      "Epoch [20/20] - Training Loss: 453.9257 - Training MAE: 16.0828\n",
      "Epoch [20/20] - Validation Loss: 443.1906 - Validation MAE: 15.5028\n"
     ]
    },
    {
     "name": "stderr",
     "output_type": "stream",
     "text": [
      "\u001b[34m\u001b[1mwandb\u001b[0m:                                                                                \n",
      "\u001b[34m\u001b[1mwandb\u001b[0m: \n",
      "\u001b[34m\u001b[1mwandb\u001b[0m: Run history:\n",
      "\u001b[34m\u001b[1mwandb\u001b[0m:         epoch ▁▁▂▂▂▃▃▄▄▄▅▅▅▆▆▇▇▇██\n",
      "\u001b[34m\u001b[1mwandb\u001b[0m: learning_rate █▅▃▂▁▁▁▁▁▁▁▁▁▁▁▁▁▁▁▁▁▁▁▁▁▁▁▁▁▁▁▁▁▁▁▁▁▁▁▁\n",
      "\u001b[34m\u001b[1mwandb\u001b[0m:     step_loss █▆▅▂▃▃▂▂▂▄▁▂▂▂▄▃▂▁▁▂▂▄▂▂▂▂▁▁▂▂▁▂▁▁▂▂▂▃▁▁\n",
      "\u001b[34m\u001b[1mwandb\u001b[0m:     train_MAE █▃▂▁▁▁▁▁▁▁▁▁▁▁▁▁▁▁▁▁\n",
      "\u001b[34m\u001b[1mwandb\u001b[0m:    train_loss █▃▁▁▁▁▁▁▁▁▁▁▁▁▁▁▁▁▁▁\n",
      "\u001b[34m\u001b[1mwandb\u001b[0m:       val_MAE █▂▁▁▁▁▁▁▁▁▁▁▁▁▁▁▁▁▁▁\n",
      "\u001b[34m\u001b[1mwandb\u001b[0m:      val_loss █▂▁▁▁▁▁▁▁▁▁▁▁▁▁▁▁▁▁▁\n",
      "\u001b[34m\u001b[1mwandb\u001b[0m: \n",
      "\u001b[34m\u001b[1mwandb\u001b[0m: Run summary:\n",
      "\u001b[34m\u001b[1mwandb\u001b[0m:         epoch 19\n",
      "\u001b[34m\u001b[1mwandb\u001b[0m: learning_rate 0.0\n",
      "\u001b[34m\u001b[1mwandb\u001b[0m:     step_loss 405.99915\n",
      "\u001b[34m\u001b[1mwandb\u001b[0m:     train_MAE 16.08278\n",
      "\u001b[34m\u001b[1mwandb\u001b[0m:    train_loss 453.92567\n",
      "\u001b[34m\u001b[1mwandb\u001b[0m:       val_MAE 15.50284\n",
      "\u001b[34m\u001b[1mwandb\u001b[0m:      val_loss 443.1906\n",
      "\u001b[34m\u001b[1mwandb\u001b[0m: \n",
      "\u001b[34m\u001b[1mwandb\u001b[0m: 🚀 View run \u001b[33mrobust-sweep-1\u001b[0m at: \u001b[34m\u001b[4mhttps://wandb.ai/kpirahesh/Bone_Age_Assessment_v1/runs/5zj3hfxh\u001b[0m\n",
      "\u001b[34m\u001b[1mwandb\u001b[0m: ⭐️ View project at: \u001b[34m\u001b[4mhttps://wandb.ai/kpirahesh/Bone_Age_Assessment_v1\u001b[0m\n",
      "\u001b[34m\u001b[1mwandb\u001b[0m: Synced 5 W&B file(s), 0 media file(s), 0 artifact file(s) and 0 other file(s)\n",
      "\u001b[34m\u001b[1mwandb\u001b[0m: Find logs at: \u001b[35m\u001b[1m./wandb/run-20240518_025550-5zj3hfxh/logs\u001b[0m\n",
      "\u001b[34m\u001b[1mwandb\u001b[0m: Sweep Agent: Waiting for job.\n",
      "\u001b[34m\u001b[1mwandb\u001b[0m: Job received.\n",
      "\u001b[34m\u001b[1mwandb\u001b[0m: Agent Starting Run: mya1j9f8 with config:\n",
      "\u001b[34m\u001b[1mwandb\u001b[0m: \tbatch_size: 64\n",
      "\u001b[34m\u001b[1mwandb\u001b[0m: \tdense_layer1_size: 128\n",
      "\u001b[34m\u001b[1mwandb\u001b[0m: \tdense_layer2_size: 128\n",
      "\u001b[34m\u001b[1mwandb\u001b[0m: \tgamma: 0.9\n",
      "\u001b[34m\u001b[1mwandb\u001b[0m: \timage_size: [224, 224]\n",
      "\u001b[34m\u001b[1mwandb\u001b[0m: \tlearning_rate: 0.001\n",
      "\u001b[34m\u001b[1mwandb\u001b[0m: \tnum_epochs: 20\n",
      "\u001b[34m\u001b[1mwandb\u001b[0m: \tp_dropout: 0.10244077163130726\n",
      "\u001b[34m\u001b[1mwandb\u001b[0m: \tregressor_layer_size: 256\n",
      "\u001b[34m\u001b[1mwandb\u001b[0m: \tstep_size: 10\n",
      "\u001b[34m\u001b[1mwandb\u001b[0m: wandb version 0.17.0 is available!  To upgrade, please run:\n",
      "\u001b[34m\u001b[1mwandb\u001b[0m:  $ pip install wandb --upgrade\n",
      "\u001b[34m\u001b[1mwandb\u001b[0m: Tracking run with wandb version 0.16.6\n",
      "\u001b[34m\u001b[1mwandb\u001b[0m: Run data is saved locally in \u001b[35m\u001b[1m/kaggle/working/wandb/run-20240518_035239-mya1j9f8\u001b[0m\n",
      "\u001b[34m\u001b[1mwandb\u001b[0m: Run \u001b[1m`wandb offline`\u001b[0m to turn off syncing.\n",
      "\u001b[34m\u001b[1mwandb\u001b[0m: Syncing run \u001b[33mradiant-sweep-2\u001b[0m\n",
      "\u001b[34m\u001b[1mwandb\u001b[0m: ⭐️ View project at \u001b[34m\u001b[4mhttps://wandb.ai/kpirahesh/Bone_Age_Assessment_v1\u001b[0m\n",
      "\u001b[34m\u001b[1mwandb\u001b[0m: 🧹 View sweep at \u001b[34m\u001b[4mhttps://wandb.ai/kpirahesh/Bone_Age_Assessment_v1/sweeps/9mhyu2a4\u001b[0m\n",
      "\u001b[34m\u001b[1mwandb\u001b[0m: 🚀 View run at \u001b[34m\u001b[4mhttps://wandb.ai/kpirahesh/Bone_Age_Assessment_v1/runs/mya1j9f8\u001b[0m\n"
     ]
    },
    {
     "name": "stdout",
     "output_type": "stream",
     "text": [
      "Epoch [1/20] - Training Loss: 1121.6613 - Training MAE: 20.0945\n",
      "Epoch [1/20] - Validation Loss: 186.0701 - Validation MAE: 10.4075\n",
      "Epoch [2/20] - Training Loss: 179.2532 - Training MAE: 10.3905\n",
      "Epoch [2/20] - Validation Loss: 179.2074 - Validation MAE: 10.3188\n",
      "Epoch [3/20] - Training Loss: 151.8475 - Training MAE: 9.5365\n",
      "Epoch [3/20] - Validation Loss: 165.1541 - Validation MAE: 9.8407\n",
      "Epoch [4/20] - Training Loss: 150.5315 - Training MAE: 9.4930\n",
      "Epoch [4/20] - Validation Loss: 162.6389 - Validation MAE: 9.8196\n",
      "Epoch [5/20] - Training Loss: 149.2109 - Training MAE: 9.4530\n",
      "Epoch [5/20] - Validation Loss: 162.7887 - Validation MAE: 9.7940\n",
      "Epoch [6/20] - Training Loss: 151.1142 - Training MAE: 9.5248\n",
      "Epoch [6/20] - Validation Loss: 163.0356 - Validation MAE: 9.7657\n",
      "Epoch [7/20] - Training Loss: 146.8582 - Training MAE: 9.3760\n",
      "Epoch [7/20] - Validation Loss: 163.5874 - Validation MAE: 9.8416\n",
      "Epoch [8/20] - Training Loss: 147.2636 - Training MAE: 9.4342\n",
      "Epoch [8/20] - Validation Loss: 163.7061 - Validation MAE: 9.8141\n",
      "Epoch [9/20] - Training Loss: 145.5018 - Training MAE: 9.3895\n",
      "Epoch [9/20] - Validation Loss: 163.0279 - Validation MAE: 9.8033\n",
      "Epoch [10/20] - Training Loss: 145.8620 - Training MAE: 9.3585\n",
      "Epoch [10/20] - Validation Loss: 162.7711 - Validation MAE: 9.7805\n",
      "Epoch [11/20] - Training Loss: 147.9292 - Training MAE: 9.3580\n",
      "Epoch [11/20] - Validation Loss: 163.2245 - Validation MAE: 9.8171\n",
      "Epoch [12/20] - Training Loss: 143.1021 - Training MAE: 9.2539\n",
      "Epoch [12/20] - Validation Loss: 163.6814 - Validation MAE: 9.8147\n",
      "Epoch [13/20] - Training Loss: 148.6115 - Training MAE: 9.4306\n",
      "Epoch [13/20] - Validation Loss: 163.1314 - Validation MAE: 9.8106\n",
      "Epoch [14/20] - Training Loss: 146.8358 - Training MAE: 9.3240\n",
      "Epoch [14/20] - Validation Loss: 164.2918 - Validation MAE: 9.8217\n",
      "Epoch [15/20] - Training Loss: 148.3580 - Training MAE: 9.4250\n",
      "Epoch [15/20] - Validation Loss: 163.6911 - Validation MAE: 9.8200\n",
      "Epoch [16/20] - Training Loss: 146.7378 - Training MAE: 9.4010\n",
      "Epoch [16/20] - Validation Loss: 163.3880 - Validation MAE: 9.8135\n",
      "Epoch [17/20] - Training Loss: 148.5637 - Training MAE: 9.3696\n",
      "Epoch [17/20] - Validation Loss: 163.1500 - Validation MAE: 9.8178\n",
      "Epoch [18/20] - Training Loss: 150.4900 - Training MAE: 9.4928\n",
      "Epoch [18/20] - Validation Loss: 163.3923 - Validation MAE: 9.8211\n",
      "Epoch [19/20] - Training Loss: 146.0732 - Training MAE: 9.3759\n",
      "Epoch [19/20] - Validation Loss: 163.6752 - Validation MAE: 9.8181\n",
      "Epoch [20/20] - Training Loss: 146.8082 - Training MAE: 9.3870\n",
      "Epoch [20/20] - Validation Loss: 164.0600 - Validation MAE: 9.8596\n"
     ]
    },
    {
     "name": "stderr",
     "output_type": "stream",
     "text": [
      "\u001b[34m\u001b[1mwandb\u001b[0m:                                                                                \n",
      "\u001b[34m\u001b[1mwandb\u001b[0m: \n",
      "\u001b[34m\u001b[1mwandb\u001b[0m: Run history:\n",
      "\u001b[34m\u001b[1mwandb\u001b[0m:         epoch ▁▁▂▂▂▃▃▄▄▄▅▅▅▆▆▇▇▇██\n",
      "\u001b[34m\u001b[1mwandb\u001b[0m: learning_rate █▅▃▂▁▁▁▁▁▁▁▁▁▁▁▁▁▁▁▁▁▁▁▁▁▁▁▁▁▁▁▁▁▁▁▁▁▁▁▁\n",
      "\u001b[34m\u001b[1mwandb\u001b[0m:     step_loss █▆▃▂▃▃▅▁▂▂▂▂▂▂▃▂▄▂▂▁▃▄▂▃▃▃▂▂▃▄▁▃▂▂▃▃▂▃▁▃\n",
      "\u001b[34m\u001b[1mwandb\u001b[0m:     train_MAE █▂▁▁▁▁▁▁▁▁▁▁▁▁▁▁▁▁▁▁\n",
      "\u001b[34m\u001b[1mwandb\u001b[0m:    train_loss █▁▁▁▁▁▁▁▁▁▁▁▁▁▁▁▁▁▁▁\n",
      "\u001b[34m\u001b[1mwandb\u001b[0m:       val_MAE █▇▂▂▁▁▂▂▁▁▂▂▁▂▂▂▂▂▂▂\n",
      "\u001b[34m\u001b[1mwandb\u001b[0m:      val_loss █▆▂▁▁▁▁▁▁▁▁▁▁▁▁▁▁▁▁▁\n",
      "\u001b[34m\u001b[1mwandb\u001b[0m: \n",
      "\u001b[34m\u001b[1mwandb\u001b[0m: Run summary:\n",
      "\u001b[34m\u001b[1mwandb\u001b[0m:         epoch 19\n",
      "\u001b[34m\u001b[1mwandb\u001b[0m: learning_rate 0.0\n",
      "\u001b[34m\u001b[1mwandb\u001b[0m:     step_loss 176.59514\n",
      "\u001b[34m\u001b[1mwandb\u001b[0m:     train_MAE 9.38695\n",
      "\u001b[34m\u001b[1mwandb\u001b[0m:    train_loss 146.80816\n",
      "\u001b[34m\u001b[1mwandb\u001b[0m:       val_MAE 9.85959\n",
      "\u001b[34m\u001b[1mwandb\u001b[0m:      val_loss 164.05997\n",
      "\u001b[34m\u001b[1mwandb\u001b[0m: \n",
      "\u001b[34m\u001b[1mwandb\u001b[0m: 🚀 View run \u001b[33mradiant-sweep-2\u001b[0m at: \u001b[34m\u001b[4mhttps://wandb.ai/kpirahesh/Bone_Age_Assessment_v1/runs/mya1j9f8\u001b[0m\n",
      "\u001b[34m\u001b[1mwandb\u001b[0m: ⭐️ View project at: \u001b[34m\u001b[4mhttps://wandb.ai/kpirahesh/Bone_Age_Assessment_v1\u001b[0m\n",
      "\u001b[34m\u001b[1mwandb\u001b[0m: Synced 5 W&B file(s), 0 media file(s), 0 artifact file(s) and 0 other file(s)\n",
      "\u001b[34m\u001b[1mwandb\u001b[0m: Find logs at: \u001b[35m\u001b[1m./wandb/run-20240518_035239-mya1j9f8/logs\u001b[0m\n",
      "\u001b[34m\u001b[1mwandb\u001b[0m: Agent Starting Run: es3lgys4 with config:\n",
      "\u001b[34m\u001b[1mwandb\u001b[0m: \tbatch_size: 64\n",
      "\u001b[34m\u001b[1mwandb\u001b[0m: \tdense_layer1_size: 256\n",
      "\u001b[34m\u001b[1mwandb\u001b[0m: \tdense_layer2_size: 128\n",
      "\u001b[34m\u001b[1mwandb\u001b[0m: \tgamma: 0.5\n",
      "\u001b[34m\u001b[1mwandb\u001b[0m: \timage_size: [224, 224]\n",
      "\u001b[34m\u001b[1mwandb\u001b[0m: \tlearning_rate: 0.001\n",
      "\u001b[34m\u001b[1mwandb\u001b[0m: \tnum_epochs: 10\n",
      "\u001b[34m\u001b[1mwandb\u001b[0m: \tp_dropout: 0.34729467309350115\n",
      "\u001b[34m\u001b[1mwandb\u001b[0m: \tregressor_layer_size: 256\n",
      "\u001b[34m\u001b[1mwandb\u001b[0m: \tstep_size: 10\n",
      "\u001b[34m\u001b[1mwandb\u001b[0m: wandb version 0.17.0 is available!  To upgrade, please run:\n",
      "\u001b[34m\u001b[1mwandb\u001b[0m:  $ pip install wandb --upgrade\n",
      "\u001b[34m\u001b[1mwandb\u001b[0m: Tracking run with wandb version 0.16.6\n",
      "\u001b[34m\u001b[1mwandb\u001b[0m: Run data is saved locally in \u001b[35m\u001b[1m/kaggle/working/wandb/run-20240518_044849-es3lgys4\u001b[0m\n",
      "\u001b[34m\u001b[1mwandb\u001b[0m: Run \u001b[1m`wandb offline`\u001b[0m to turn off syncing.\n",
      "\u001b[34m\u001b[1mwandb\u001b[0m: Syncing run \u001b[33meffortless-sweep-3\u001b[0m\n",
      "\u001b[34m\u001b[1mwandb\u001b[0m: ⭐️ View project at \u001b[34m\u001b[4mhttps://wandb.ai/kpirahesh/Bone_Age_Assessment_v1\u001b[0m\n",
      "\u001b[34m\u001b[1mwandb\u001b[0m: 🧹 View sweep at \u001b[34m\u001b[4mhttps://wandb.ai/kpirahesh/Bone_Age_Assessment_v1/sweeps/9mhyu2a4\u001b[0m\n",
      "\u001b[34m\u001b[1mwandb\u001b[0m: 🚀 View run at \u001b[34m\u001b[4mhttps://wandb.ai/kpirahesh/Bone_Age_Assessment_v1/runs/es3lgys4\u001b[0m\n"
     ]
    },
    {
     "name": "stdout",
     "output_type": "stream",
     "text": [
      "Epoch [1/10] - Training Loss: 1148.3930 - Training MAE: 20.5831\n",
      "Epoch [1/10] - Validation Loss: 317.0591 - Validation MAE: 14.0862\n",
      "Epoch [2/10] - Training Loss: 298.7471 - Training MAE: 13.7681\n",
      "Epoch [2/10] - Validation Loss: 317.4170 - Validation MAE: 14.0881\n",
      "Epoch [3/10] - Training Loss: 300.8506 - Training MAE: 13.7857\n",
      "Epoch [3/10] - Validation Loss: 316.9319 - Validation MAE: 14.0714\n",
      "Epoch [4/10] - Training Loss: 299.8949 - Training MAE: 13.8238\n",
      "Epoch [4/10] - Validation Loss: 317.8157 - Validation MAE: 14.0922\n",
      "Epoch [5/10] - Training Loss: 304.2333 - Training MAE: 13.8563\n",
      "Epoch [5/10] - Validation Loss: 317.9735 - Validation MAE: 14.0957\n",
      "Epoch [6/10] - Training Loss: 300.7007 - Training MAE: 13.7730\n",
      "Epoch [6/10] - Validation Loss: 316.7071 - Validation MAE: 14.0757\n",
      "Epoch [7/10] - Training Loss: 297.3883 - Training MAE: 13.6888\n",
      "Epoch [7/10] - Validation Loss: 318.3152 - Validation MAE: 14.1096\n",
      "Epoch [8/10] - Training Loss: 296.1423 - Training MAE: 13.7344\n",
      "Epoch [8/10] - Validation Loss: 317.5679 - Validation MAE: 14.0932\n",
      "Epoch [9/10] - Training Loss: 298.0089 - Training MAE: 13.6869\n",
      "Epoch [9/10] - Validation Loss: 316.7528 - Validation MAE: 14.0700\n",
      "Epoch [10/10] - Training Loss: 295.0504 - Training MAE: 13.6682\n",
      "Epoch [10/10] - Validation Loss: 316.9656 - Validation MAE: 14.0787\n"
     ]
    },
    {
     "name": "stderr",
     "output_type": "stream",
     "text": [
      "\u001b[34m\u001b[1mwandb\u001b[0m:                                                                                \n",
      "\u001b[34m\u001b[1mwandb\u001b[0m: \n",
      "\u001b[34m\u001b[1mwandb\u001b[0m: Run history:\n",
      "\u001b[34m\u001b[1mwandb\u001b[0m:         epoch ▁▂▃▃▄▅▆▆▇█\n",
      "\u001b[34m\u001b[1mwandb\u001b[0m: learning_rate █▂▁▁▁▁▁▁▁▁▁▁▁▁▁▁▁▁▁▁▁▁▁▁▁▁▁▁▁▁▁▁▁▁▁▁▁▁▁▁\n",
      "\u001b[34m\u001b[1mwandb\u001b[0m:     step_loss █▄▄▃▂▂▂▂▃▄▃▂▂▂▂▂▂▃▂▂▄▂▃▃▂▂▃▄▄▂▂▃▁▄▃▂▂▂▂▄\n",
      "\u001b[34m\u001b[1mwandb\u001b[0m:     train_MAE █▁▁▁▁▁▁▁▁▁\n",
      "\u001b[34m\u001b[1mwandb\u001b[0m:    train_loss █▁▁▁▁▁▁▁▁▁\n",
      "\u001b[34m\u001b[1mwandb\u001b[0m:       val_MAE ▄▄▁▅▆▂█▅▁▃\n",
      "\u001b[34m\u001b[1mwandb\u001b[0m:      val_loss ▃▄▂▆▇▁█▅▁▂\n",
      "\u001b[34m\u001b[1mwandb\u001b[0m: \n",
      "\u001b[34m\u001b[1mwandb\u001b[0m: Run summary:\n",
      "\u001b[34m\u001b[1mwandb\u001b[0m:         epoch 9\n",
      "\u001b[34m\u001b[1mwandb\u001b[0m: learning_rate 0.0\n",
      "\u001b[34m\u001b[1mwandb\u001b[0m:     step_loss 257.82315\n",
      "\u001b[34m\u001b[1mwandb\u001b[0m:     train_MAE 13.66824\n",
      "\u001b[34m\u001b[1mwandb\u001b[0m:    train_loss 295.05038\n",
      "\u001b[34m\u001b[1mwandb\u001b[0m:       val_MAE 14.0787\n",
      "\u001b[34m\u001b[1mwandb\u001b[0m:      val_loss 316.96563\n",
      "\u001b[34m\u001b[1mwandb\u001b[0m: \n",
      "\u001b[34m\u001b[1mwandb\u001b[0m: 🚀 View run \u001b[33meffortless-sweep-3\u001b[0m at: \u001b[34m\u001b[4mhttps://wandb.ai/kpirahesh/Bone_Age_Assessment_v1/runs/es3lgys4\u001b[0m\n",
      "\u001b[34m\u001b[1mwandb\u001b[0m: ⭐️ View project at: \u001b[34m\u001b[4mhttps://wandb.ai/kpirahesh/Bone_Age_Assessment_v1\u001b[0m\n",
      "\u001b[34m\u001b[1mwandb\u001b[0m: Synced 5 W&B file(s), 0 media file(s), 0 artifact file(s) and 0 other file(s)\n",
      "\u001b[34m\u001b[1mwandb\u001b[0m: Find logs at: \u001b[35m\u001b[1m./wandb/run-20240518_044849-es3lgys4/logs\u001b[0m\n",
      "\u001b[34m\u001b[1mwandb\u001b[0m: Agent Starting Run: jma59590 with config:\n",
      "\u001b[34m\u001b[1mwandb\u001b[0m: \tbatch_size: 64\n",
      "\u001b[34m\u001b[1mwandb\u001b[0m: \tdense_layer1_size: 128\n",
      "\u001b[34m\u001b[1mwandb\u001b[0m: \tdense_layer2_size: 128\n",
      "\u001b[34m\u001b[1mwandb\u001b[0m: \tgamma: 0.9\n",
      "\u001b[34m\u001b[1mwandb\u001b[0m: \timage_size: [224, 224]\n",
      "\u001b[34m\u001b[1mwandb\u001b[0m: \tlearning_rate: 0.001\n",
      "\u001b[34m\u001b[1mwandb\u001b[0m: \tnum_epochs: 20\n",
      "\u001b[34m\u001b[1mwandb\u001b[0m: \tp_dropout: 0.13561513080158136\n",
      "\u001b[34m\u001b[1mwandb\u001b[0m: \tregressor_layer_size: 256\n",
      "\u001b[34m\u001b[1mwandb\u001b[0m: \tstep_size: 10\n",
      "\u001b[34m\u001b[1mwandb\u001b[0m: wandb version 0.17.0 is available!  To upgrade, please run:\n",
      "\u001b[34m\u001b[1mwandb\u001b[0m:  $ pip install wandb --upgrade\n",
      "\u001b[34m\u001b[1mwandb\u001b[0m: Tracking run with wandb version 0.16.6\n",
      "\u001b[34m\u001b[1mwandb\u001b[0m: Run data is saved locally in \u001b[35m\u001b[1m/kaggle/working/wandb/run-20240518_051724-jma59590\u001b[0m\n",
      "\u001b[34m\u001b[1mwandb\u001b[0m: Run \u001b[1m`wandb offline`\u001b[0m to turn off syncing.\n",
      "\u001b[34m\u001b[1mwandb\u001b[0m: Syncing run \u001b[33mglamorous-sweep-4\u001b[0m\n",
      "\u001b[34m\u001b[1mwandb\u001b[0m: ⭐️ View project at \u001b[34m\u001b[4mhttps://wandb.ai/kpirahesh/Bone_Age_Assessment_v1\u001b[0m\n",
      "\u001b[34m\u001b[1mwandb\u001b[0m: 🧹 View sweep at \u001b[34m\u001b[4mhttps://wandb.ai/kpirahesh/Bone_Age_Assessment_v1/sweeps/9mhyu2a4\u001b[0m\n",
      "\u001b[34m\u001b[1mwandb\u001b[0m: 🚀 View run at \u001b[34m\u001b[4mhttps://wandb.ai/kpirahesh/Bone_Age_Assessment_v1/runs/jma59590\u001b[0m\n"
     ]
    },
    {
     "name": "stdout",
     "output_type": "stream",
     "text": [
      "Epoch [1/20] - Training Loss: 1488.8367 - Training MAE: 24.2761\n",
      "Epoch [1/20] - Validation Loss: 214.7168 - Validation MAE: 11.4117\n",
      "Epoch [2/20] - Training Loss: 194.8075 - Training MAE: 10.8708\n",
      "Epoch [2/20] - Validation Loss: 178.0816 - Validation MAE: 10.3833\n",
      "Epoch [3/20] - Training Loss: 168.2849 - Training MAE: 10.0815\n",
      "Epoch [3/20] - Validation Loss: 171.6226 - Validation MAE: 10.1896\n",
      "Epoch [4/20] - Training Loss: 164.0149 - Training MAE: 9.9483\n",
      "Epoch [4/20] - Validation Loss: 173.3500 - Validation MAE: 10.2734\n",
      "Epoch [5/20] - Training Loss: 163.8927 - Training MAE: 9.9175\n",
      "Epoch [5/20] - Validation Loss: 171.5639 - Validation MAE: 10.1872\n",
      "Epoch [6/20] - Training Loss: 161.5416 - Training MAE: 9.8528\n",
      "Epoch [6/20] - Validation Loss: 170.4382 - Validation MAE: 10.1774\n",
      "Epoch [7/20] - Training Loss: 163.6759 - Training MAE: 9.9501\n",
      "Epoch [7/20] - Validation Loss: 170.3102 - Validation MAE: 10.1488\n",
      "Epoch [8/20] - Training Loss: 159.0690 - Training MAE: 9.8423\n",
      "Epoch [8/20] - Validation Loss: 170.9918 - Validation MAE: 10.2027\n",
      "Epoch [9/20] - Training Loss: 157.3184 - Training MAE: 9.7004\n",
      "Epoch [9/20] - Validation Loss: 172.5689 - Validation MAE: 10.2189\n",
      "Epoch [10/20] - Training Loss: 168.3554 - Training MAE: 10.0722\n",
      "Epoch [10/20] - Validation Loss: 170.4145 - Validation MAE: 10.1389\n",
      "Epoch [11/20] - Training Loss: 162.8754 - Training MAE: 9.8465\n",
      "Epoch [11/20] - Validation Loss: 170.2656 - Validation MAE: 10.1453\n",
      "Epoch [12/20] - Training Loss: 158.5457 - Training MAE: 9.8146\n",
      "Epoch [12/20] - Validation Loss: 171.4294 - Validation MAE: 10.2216\n",
      "Epoch [13/20] - Training Loss: 159.2919 - Training MAE: 9.7196\n",
      "Epoch [13/20] - Validation Loss: 170.7178 - Validation MAE: 10.1715\n",
      "Epoch [14/20] - Training Loss: 158.0863 - Training MAE: 9.8078\n",
      "Epoch [14/20] - Validation Loss: 171.7363 - Validation MAE: 10.1815\n",
      "Epoch [15/20] - Training Loss: 159.4027 - Training MAE: 9.8477\n",
      "Epoch [15/20] - Validation Loss: 171.7312 - Validation MAE: 10.2188\n",
      "Epoch [16/20] - Training Loss: 164.8043 - Training MAE: 9.9404\n",
      "Epoch [16/20] - Validation Loss: 171.7991 - Validation MAE: 10.1968\n",
      "Epoch [17/20] - Training Loss: 165.3087 - Training MAE: 10.0020\n",
      "Epoch [17/20] - Validation Loss: 170.9397 - Validation MAE: 10.1912\n",
      "Epoch [18/20] - Training Loss: 161.2648 - Training MAE: 9.8526\n",
      "Epoch [18/20] - Validation Loss: 169.9121 - Validation MAE: 10.1592\n",
      "Epoch [19/20] - Training Loss: 160.1594 - Training MAE: 9.8995\n",
      "Epoch [19/20] - Validation Loss: 170.3187 - Validation MAE: 10.1608\n",
      "Epoch [20/20] - Training Loss: 161.1308 - Training MAE: 9.8426\n",
      "Epoch [20/20] - Validation Loss: 171.1791 - Validation MAE: 10.1852\n"
     ]
    },
    {
     "name": "stderr",
     "output_type": "stream",
     "text": [
      "\u001b[34m\u001b[1mwandb\u001b[0m:                                                                                \n",
      "\u001b[34m\u001b[1mwandb\u001b[0m: \n",
      "\u001b[34m\u001b[1mwandb\u001b[0m: Run history:\n",
      "\u001b[34m\u001b[1mwandb\u001b[0m:         epoch ▁▁▂▂▂▃▃▄▄▄▅▅▅▆▆▇▇▇██\n",
      "\u001b[34m\u001b[1mwandb\u001b[0m: learning_rate █▅▃▂▁▁▁▁▁▁▁▁▁▁▁▁▁▁▁▁▁▁▁▁▁▁▁▁▁▁▁▁▁▁▁▁▁▁▁▁\n",
      "\u001b[34m\u001b[1mwandb\u001b[0m:     step_loss █▂▂▁▁▁▁▁▁▁▁▁▂▁▁▁▁▁▁▂▁▁▁▁▁▂▁▁▁▂▁▂▁▂▁▁▁▁▂▂\n",
      "\u001b[34m\u001b[1mwandb\u001b[0m:     train_MAE █▂▁▁▁▁▁▁▁▁▁▁▁▁▁▁▁▁▁▁\n",
      "\u001b[34m\u001b[1mwandb\u001b[0m:    train_loss █▁▁▁▁▁▁▁▁▁▁▁▁▁▁▁▁▁▁▁\n",
      "\u001b[34m\u001b[1mwandb\u001b[0m:       val_MAE █▂▁▂▁▁▁▁▁▁▁▁▁▁▁▁▁▁▁▁\n",
      "\u001b[34m\u001b[1mwandb\u001b[0m:      val_loss █▂▁▂▁▁▁▁▁▁▁▁▁▁▁▁▁▁▁▁\n",
      "\u001b[34m\u001b[1mwandb\u001b[0m: \n",
      "\u001b[34m\u001b[1mwandb\u001b[0m: Run summary:\n",
      "\u001b[34m\u001b[1mwandb\u001b[0m:         epoch 19\n",
      "\u001b[34m\u001b[1mwandb\u001b[0m: learning_rate 0.0\n",
      "\u001b[34m\u001b[1mwandb\u001b[0m:     step_loss 70.15076\n",
      "\u001b[34m\u001b[1mwandb\u001b[0m:     train_MAE 9.84256\n",
      "\u001b[34m\u001b[1mwandb\u001b[0m:    train_loss 161.1308\n",
      "\u001b[34m\u001b[1mwandb\u001b[0m:       val_MAE 10.18522\n",
      "\u001b[34m\u001b[1mwandb\u001b[0m:      val_loss 171.17906\n",
      "\u001b[34m\u001b[1mwandb\u001b[0m: \n",
      "\u001b[34m\u001b[1mwandb\u001b[0m: 🚀 View run \u001b[33mglamorous-sweep-4\u001b[0m at: \u001b[34m\u001b[4mhttps://wandb.ai/kpirahesh/Bone_Age_Assessment_v1/runs/jma59590\u001b[0m\n",
      "\u001b[34m\u001b[1mwandb\u001b[0m: ⭐️ View project at: \u001b[34m\u001b[4mhttps://wandb.ai/kpirahesh/Bone_Age_Assessment_v1\u001b[0m\n",
      "\u001b[34m\u001b[1mwandb\u001b[0m: Synced 5 W&B file(s), 0 media file(s), 0 artifact file(s) and 0 other file(s)\n",
      "\u001b[34m\u001b[1mwandb\u001b[0m: Find logs at: \u001b[35m\u001b[1m./wandb/run-20240518_051724-jma59590/logs\u001b[0m\n",
      "\u001b[34m\u001b[1mwandb\u001b[0m: Sweep Agent: Waiting for job.\n",
      "\u001b[34m\u001b[1mwandb\u001b[0m: Job received.\n",
      "\u001b[34m\u001b[1mwandb\u001b[0m: Agent Starting Run: 8zox89rw with config:\n",
      "\u001b[34m\u001b[1mwandb\u001b[0m: \tbatch_size: 128\n",
      "\u001b[34m\u001b[1mwandb\u001b[0m: \tdense_layer1_size: 128\n",
      "\u001b[34m\u001b[1mwandb\u001b[0m: \tdense_layer2_size: 128\n",
      "\u001b[34m\u001b[1mwandb\u001b[0m: \tgamma: 0.9\n",
      "\u001b[34m\u001b[1mwandb\u001b[0m: \timage_size: [224, 224]\n",
      "\u001b[34m\u001b[1mwandb\u001b[0m: \tlearning_rate: 0.001\n",
      "\u001b[34m\u001b[1mwandb\u001b[0m: \tnum_epochs: 20\n",
      "\u001b[34m\u001b[1mwandb\u001b[0m: \tp_dropout: 0.1459158405778813\n",
      "\u001b[34m\u001b[1mwandb\u001b[0m: \tregressor_layer_size: 256\n",
      "\u001b[34m\u001b[1mwandb\u001b[0m: \tstep_size: 10\n",
      "\u001b[34m\u001b[1mwandb\u001b[0m: wandb version 0.17.0 is available!  To upgrade, please run:\n",
      "\u001b[34m\u001b[1mwandb\u001b[0m:  $ pip install wandb --upgrade\n",
      "\u001b[34m\u001b[1mwandb\u001b[0m: Tracking run with wandb version 0.16.6\n",
      "\u001b[34m\u001b[1mwandb\u001b[0m: Run data is saved locally in \u001b[35m\u001b[1m/kaggle/working/wandb/run-20240518_061503-8zox89rw\u001b[0m\n",
      "\u001b[34m\u001b[1mwandb\u001b[0m: Run \u001b[1m`wandb offline`\u001b[0m to turn off syncing.\n",
      "\u001b[34m\u001b[1mwandb\u001b[0m: Syncing run \u001b[33msoft-sweep-5\u001b[0m\n",
      "\u001b[34m\u001b[1mwandb\u001b[0m: ⭐️ View project at \u001b[34m\u001b[4mhttps://wandb.ai/kpirahesh/Bone_Age_Assessment_v1\u001b[0m\n",
      "\u001b[34m\u001b[1mwandb\u001b[0m: 🧹 View sweep at \u001b[34m\u001b[4mhttps://wandb.ai/kpirahesh/Bone_Age_Assessment_v1/sweeps/9mhyu2a4\u001b[0m\n",
      "\u001b[34m\u001b[1mwandb\u001b[0m: 🚀 View run at \u001b[34m\u001b[4mhttps://wandb.ai/kpirahesh/Bone_Age_Assessment_v1/runs/8zox89rw\u001b[0m\n"
     ]
    },
    {
     "name": "stdout",
     "output_type": "stream",
     "text": [
      "Epoch [1/20] - Training Loss: 2022.7265 - Training MAE: 27.2577\n",
      "Epoch [1/20] - Validation Loss: 265.7911 - Validation MAE: 12.7463\n",
      "Epoch [2/20] - Training Loss: 189.4054 - Training MAE: 10.7241\n",
      "Epoch [2/20] - Validation Loss: 162.4757 - Validation MAE: 9.8413\n",
      "Epoch [3/20] - Training Loss: 141.3754 - Training MAE: 9.2049\n",
      "Epoch [3/20] - Validation Loss: 143.6527 - Validation MAE: 9.2266\n",
      "Epoch [4/20] - Training Loss: 138.1102 - Training MAE: 9.0841\n",
      "Epoch [4/20] - Validation Loss: 136.0962 - Validation MAE: 8.9701\n",
      "Epoch [5/20] - Training Loss: 129.9828 - Training MAE: 8.8708\n",
      "Epoch [5/20] - Validation Loss: 141.7521 - Validation MAE: 9.1609\n",
      "Epoch [6/20] - Training Loss: 128.2234 - Training MAE: 8.7885\n",
      "Epoch [6/20] - Validation Loss: 138.7327 - Validation MAE: 9.0321\n",
      "Epoch [7/20] - Training Loss: 124.9284 - Training MAE: 8.7064\n",
      "Epoch [7/20] - Validation Loss: 137.7706 - Validation MAE: 9.0419\n",
      "Epoch [8/20] - Training Loss: 131.6124 - Training MAE: 8.8639\n",
      "Epoch [8/20] - Validation Loss: 137.8531 - Validation MAE: 9.0561\n",
      "Epoch [9/20] - Training Loss: 125.5901 - Training MAE: 8.7093\n",
      "Epoch [9/20] - Validation Loss: 137.0287 - Validation MAE: 8.9877\n",
      "Epoch [10/20] - Training Loss: 129.5225 - Training MAE: 8.8250\n",
      "Epoch [10/20] - Validation Loss: 136.1582 - Validation MAE: 8.9951\n",
      "Epoch [11/20] - Training Loss: 126.4679 - Training MAE: 8.7473\n",
      "Epoch [11/20] - Validation Loss: 137.1131 - Validation MAE: 8.9927\n",
      "Epoch [12/20] - Training Loss: 124.2765 - Training MAE: 8.6339\n",
      "Epoch [12/20] - Validation Loss: 137.2660 - Validation MAE: 9.0038\n",
      "Epoch [13/20] - Training Loss: 129.1933 - Training MAE: 8.8055\n",
      "Epoch [13/20] - Validation Loss: 136.6185 - Validation MAE: 8.9654\n",
      "Epoch [14/20] - Training Loss: 126.4033 - Training MAE: 8.6839\n",
      "Epoch [14/20] - Validation Loss: 136.5242 - Validation MAE: 8.9925\n",
      "Epoch [15/20] - Training Loss: 127.7573 - Training MAE: 8.7689\n",
      "Epoch [15/20] - Validation Loss: 138.0810 - Validation MAE: 9.0345\n",
      "Epoch [16/20] - Training Loss: 128.0684 - Training MAE: 8.8053\n",
      "Epoch [16/20] - Validation Loss: 136.7610 - Validation MAE: 8.9971\n",
      "Epoch [17/20] - Training Loss: 128.8817 - Training MAE: 8.8235\n",
      "Epoch [17/20] - Validation Loss: 136.7075 - Validation MAE: 8.9862\n",
      "Epoch [18/20] - Training Loss: 126.3090 - Training MAE: 8.7225\n",
      "Epoch [18/20] - Validation Loss: 137.3016 - Validation MAE: 9.0026\n",
      "Epoch [19/20] - Training Loss: 125.2040 - Training MAE: 8.6660\n",
      "Epoch [19/20] - Validation Loss: 138.3489 - Validation MAE: 9.0562\n",
      "Epoch [20/20] - Training Loss: 124.6312 - Training MAE: 8.6414\n",
      "Epoch [20/20] - Validation Loss: 137.0178 - Validation MAE: 8.9924\n"
     ]
    },
    {
     "name": "stderr",
     "output_type": "stream",
     "text": [
      "\u001b[34m\u001b[1mwandb\u001b[0m:                                                                                \n",
      "\u001b[34m\u001b[1mwandb\u001b[0m: \n",
      "\u001b[34m\u001b[1mwandb\u001b[0m: Run history:\n",
      "\u001b[34m\u001b[1mwandb\u001b[0m:         epoch ▁▁▂▂▂▃▃▄▄▄▅▅▅▆▆▇▇▇██\n",
      "\u001b[34m\u001b[1mwandb\u001b[0m: learning_rate █▆▅▃▃▂▂▁▁▁▁▁▁▁▁▁▁▁▁▁▁▁▁▁▁▁▁▁▁▁▁▁▁▁▁▁▁▁▁▁\n",
      "\u001b[34m\u001b[1mwandb\u001b[0m:     step_loss █▃▂▂▂▁▂▂▁▁▁▂▂▁▁▁▁▂▂▁▁▁▂▁▁▂▂▂▁▁▁▂▁▁▁▂▁▂▂▁\n",
      "\u001b[34m\u001b[1mwandb\u001b[0m:     train_MAE █▂▁▁▁▁▁▁▁▁▁▁▁▁▁▁▁▁▁▁\n",
      "\u001b[34m\u001b[1mwandb\u001b[0m:    train_loss █▁▁▁▁▁▁▁▁▁▁▁▁▁▁▁▁▁▁▁\n",
      "\u001b[34m\u001b[1mwandb\u001b[0m:       val_MAE █▃▁▁▁▁▁▁▁▁▁▁▁▁▁▁▁▁▁▁\n",
      "\u001b[34m\u001b[1mwandb\u001b[0m:      val_loss █▂▁▁▁▁▁▁▁▁▁▁▁▁▁▁▁▁▁▁\n",
      "\u001b[34m\u001b[1mwandb\u001b[0m: \n",
      "\u001b[34m\u001b[1mwandb\u001b[0m: Run summary:\n",
      "\u001b[34m\u001b[1mwandb\u001b[0m:         epoch 19\n",
      "\u001b[34m\u001b[1mwandb\u001b[0m: learning_rate 0.0\n",
      "\u001b[34m\u001b[1mwandb\u001b[0m:     step_loss 115.44717\n",
      "\u001b[34m\u001b[1mwandb\u001b[0m:     train_MAE 8.64137\n",
      "\u001b[34m\u001b[1mwandb\u001b[0m:    train_loss 124.63123\n",
      "\u001b[34m\u001b[1mwandb\u001b[0m:       val_MAE 8.99239\n",
      "\u001b[34m\u001b[1mwandb\u001b[0m:      val_loss 137.01776\n",
      "\u001b[34m\u001b[1mwandb\u001b[0m: \n",
      "\u001b[34m\u001b[1mwandb\u001b[0m: 🚀 View run \u001b[33msoft-sweep-5\u001b[0m at: \u001b[34m\u001b[4mhttps://wandb.ai/kpirahesh/Bone_Age_Assessment_v1/runs/8zox89rw\u001b[0m\n",
      "\u001b[34m\u001b[1mwandb\u001b[0m: ⭐️ View project at: \u001b[34m\u001b[4mhttps://wandb.ai/kpirahesh/Bone_Age_Assessment_v1\u001b[0m\n",
      "\u001b[34m\u001b[1mwandb\u001b[0m: Synced 5 W&B file(s), 0 media file(s), 0 artifact file(s) and 0 other file(s)\n",
      "\u001b[34m\u001b[1mwandb\u001b[0m: Find logs at: \u001b[35m\u001b[1m./wandb/run-20240518_061503-8zox89rw/logs\u001b[0m\n"
     ]
    }
   ],
   "source": [
    "sweep_id = wandb.sweep(sweep=sweep_configuration, project=\"Bone_Age_Assessment_v1\")\n",
    "\n",
    "wandb.agent(sweep_id, function=main, count=5)"
   ]
  },
  {
   "cell_type": "markdown",
   "id": "77076bb4",
   "metadata": {
    "papermill": {
     "duration": 0.030137,
     "end_time": "2024-05-18T07:12:08.353764",
     "exception": false,
     "start_time": "2024-05-18T07:12:08.323627",
     "status": "completed"
    },
    "tags": []
   },
   "source": [
    "**And finally, we can predict the bone ages for the test data here.**"
   ]
  },
  {
   "cell_type": "code",
   "execution_count": 14,
   "id": "eec5c1c8",
   "metadata": {
    "execution": {
     "iopub.execute_input": "2024-05-18T07:12:08.414285Z",
     "iopub.status.busy": "2024-05-18T07:12:08.413896Z",
     "iopub.status.idle": "2024-05-18T07:12:08.875731Z",
     "shell.execute_reply": "2024-05-18T07:12:08.874725Z"
    },
    "papermill": {
     "duration": 0.494767,
     "end_time": "2024-05-18T07:12:08.878240",
     "exception": false,
     "start_time": "2024-05-18T07:12:08.383473",
     "status": "completed"
    },
    "tags": []
   },
   "outputs": [
    {
     "name": "stdout",
     "output_type": "stream",
     "text": [
      "total test samples: 200\n"
     ]
    }
   ],
   "source": [
    "test_path = \"/kaggle/input/rsna-bone-age/boneage-test-dataset\"\n",
    "\n",
    "test_df = pd.read_csv(os.path.join(\"/kaggle/input/rsna-bone-age/boneage-test-dataset.csv\"))\n",
    "test_df['path'] = test_df['Case ID'].map(lambda x: os.path.join(test_path,\n",
    "                                                             \"boneage-test-dataset\", f\"{x}.png\"))\n",
    "test_df['exists'] = test_df['path'].map(os.path.exists)\n",
    "test_df[\"male\"] = test_df.Sex.map({'M': 1, 'F': 0})\n",
    "\n",
    "print(f\"total test samples: {len(test_df)}\")"
   ]
  },
  {
   "cell_type": "code",
   "execution_count": 15,
   "id": "5a553ac1",
   "metadata": {
    "execution": {
     "iopub.execute_input": "2024-05-18T07:12:08.939401Z",
     "iopub.status.busy": "2024-05-18T07:12:08.939054Z",
     "iopub.status.idle": "2024-05-18T07:12:08.944701Z",
     "shell.execute_reply": "2024-05-18T07:12:08.943813Z"
    },
    "papermill": {
     "duration": 0.038354,
     "end_time": "2024-05-18T07:12:08.946701",
     "exception": false,
     "start_time": "2024-05-18T07:12:08.908347",
     "status": "completed"
    },
    "tags": []
   },
   "outputs": [],
   "source": [
    "test_transform = transforms.Compose([\n",
    "transforms.ToTensor(),\n",
    "transforms.Resize((224, 224), antialias = None),\n",
    "transforms.Normalize(mean=[0.5], std=[0.5]),\n",
    "])\n",
    "test_data = dataset(test_df, transform = test_transform)\n",
    "test_loader = DataLoader(test_data, 100)"
   ]
  },
  {
   "cell_type": "markdown",
   "id": "cf7d9ecf",
   "metadata": {
    "papermill": {
     "duration": 0.028526,
     "end_time": "2024-05-18T07:12:09.004514",
     "exception": false,
     "start_time": "2024-05-18T07:12:08.975988",
     "status": "completed"
    },
    "tags": []
   },
   "source": [
    "We load the best model and best run's hyperparameters to build the best version of our model and make predictions on the test data."
   ]
  },
  {
   "cell_type": "code",
   "execution_count": 16,
   "id": "f58c84e3",
   "metadata": {
    "execution": {
     "iopub.execute_input": "2024-05-18T07:12:09.063683Z",
     "iopub.status.busy": "2024-05-18T07:12:09.063356Z",
     "iopub.status.idle": "2024-05-18T07:12:18.597820Z",
     "shell.execute_reply": "2024-05-18T07:12:18.596996Z"
    },
    "papermill": {
     "duration": 9.567261,
     "end_time": "2024-05-18T07:12:18.600304",
     "exception": false,
     "start_time": "2024-05-18T07:12:09.033043",
     "status": "completed"
    },
    "tags": []
   },
   "outputs": [
    {
     "name": "stderr",
     "output_type": "stream",
     "text": [
      "\u001b[34m\u001b[1mwandb\u001b[0m: Sorting runs by +summary_metrics.val_loss\n"
     ]
    }
   ],
   "source": [
    "api = wandb.Api()\n",
    "sweep = api.sweep(sweep_id)\n",
    "best_run = sweep.best_run()\n",
    "best_model = Gender_Model(best_run.config['dense_layer1_size'], best_run.config['dense_layer2_size'],\n",
    "                         best_run.config['p_dropout'], best_run.config['regressor_layer_size'])\n",
    "best_model.load_state_dict(torch.load(\"/kaggle/working/best_model.pth\"))\n",
    "best_model.to(DEVICE)\n",
    "best_model.eval()\n",
    "\n",
    "predictions_list = []\n",
    "for imgs, males in test_loader:\n",
    "    imgs, males = imgs.to(DEVICE), males.to(DEVICE)\n",
    "    predictions_np = best_model(imgs, males).cpu().detach().numpy()\n",
    "    predictions_list.append(predictions_np)\n",
    "\n",
    "predictions_df = pd.DataFrame(np.concatenate(predictions_list), columns = ['predictions'])\n",
    "predictions_df['Case ID'] = test_df['Case ID']\n",
    "predictions_df.to_csv('/kaggle/working/predictions.csv', index=False)\n",
    "\n",
    "\n",
    "wandb.finish()"
   ]
  },
  {
   "cell_type": "code",
   "execution_count": null,
   "id": "dd2ffd1a",
   "metadata": {
    "execution": {
     "iopub.execute_input": "2024-05-17T15:12:09.007327Z",
     "iopub.status.busy": "2024-05-17T15:12:09.007004Z",
     "iopub.status.idle": "2024-05-17T15:12:09.018151Z",
     "shell.execute_reply": "2024-05-17T15:12:09.017135Z",
     "shell.execute_reply.started": "2024-05-17T15:12:09.007301Z"
    },
    "papermill": {
     "duration": 0.029121,
     "end_time": "2024-05-18T07:12:18.659363",
     "exception": false,
     "start_time": "2024-05-18T07:12:18.630242",
     "status": "completed"
    },
    "tags": []
   },
   "outputs": [],
   "source": []
  },
  {
   "cell_type": "code",
   "execution_count": null,
   "id": "70870580",
   "metadata": {
    "papermill": {
     "duration": 0.028377,
     "end_time": "2024-05-18T07:12:18.716201",
     "exception": false,
     "start_time": "2024-05-18T07:12:18.687824",
     "status": "completed"
    },
    "tags": []
   },
   "outputs": [],
   "source": []
  }
 ],
 "metadata": {
  "kaggle": {
   "accelerator": "gpu",
   "dataSources": [
    {
     "datasetId": 10832,
     "sourceId": 15122,
     "sourceType": "datasetVersion"
    }
   ],
   "dockerImageVersionId": 30698,
   "isGpuEnabled": true,
   "isInternetEnabled": true,
   "language": "python",
   "sourceType": "notebook"
  },
  "kernelspec": {
   "display_name": "Python 3",
   "language": "python",
   "name": "python3"
  },
  "language_info": {
   "codemirror_mode": {
    "name": "ipython",
    "version": 3
   },
   "file_extension": ".py",
   "mimetype": "text/x-python",
   "name": "python",
   "nbconvert_exporter": "python",
   "pygments_lexer": "ipython3",
   "version": "3.10.13"
  },
  "papermill": {
   "default_parameters": {},
   "duration": 15429.655292,
   "end_time": "2024-05-18T07:12:22.168985",
   "environment_variables": {},
   "exception": null,
   "input_path": "__notebook__.ipynb",
   "output_path": "__notebook__.ipynb",
   "parameters": {},
   "start_time": "2024-05-18T02:55:12.513693",
   "version": "2.5.0"
  }
 },
 "nbformat": 4,
 "nbformat_minor": 5
}
